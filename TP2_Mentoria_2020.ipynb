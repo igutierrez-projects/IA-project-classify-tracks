{
 "cells": [
  {
   "cell_type": "markdown",
   "metadata": {
    "colab_type": "text",
    "id": "ZY_uiBB89-pJ"
   },
   "source": [
    "# Mentoría 'de cómo clasificar en géneros a las canciones'\n",
    "## Práctico I : Análisis de features de audio"
   ]
  },
  {
   "cell_type": "markdown",
   "metadata": {
    "colab_type": "text",
    "id": "81dE8ZEQ9-pK"
   },
   "source": [
    "**Antes de empezar:**\n",
    "- [Instalar spaCy y el modelo de lenguaje con el que van a trabajar](https://spacy.io/models#quickstart)\n",
    "\n",
    "**Consideraciones:**\n",
    "- Se evalúa el estilo y prolijidad del código.\n",
    "- Se permite hacer trabajo extra, siempre y cuando las actividades básicas estén resueltas."
   ]
  },
  {
   "cell_type": "markdown",
   "metadata": {
    "colab_type": "text",
    "id": "Zc9vi_rK9-pM"
   },
   "source": [
    "### Librerías"
   ]
  },
  {
   "cell_type": "code",
   "execution_count": 1,
   "metadata": {
    "colab": {
     "base_uri": "https://localhost:8080/",
     "height": 816
    },
    "colab_type": "code",
    "id": "ZsewJCjt9-pN",
    "outputId": "8aeff9d0-b089-49a2-8ec5-fe83fe8483c4"
   },
   "outputs": [
    {
     "name": "stdout",
     "output_type": "stream",
     "text": [
      "Requirement already satisfied: spotipy in c:\\anaconda3\\envs\\diplodatos-mentoria\\lib\\site-packages (2.12.0)\n",
      "Requirement already satisfied: six>=1.10.0 in c:\\anaconda3\\envs\\diplodatos-mentoria\\lib\\site-packages (from spotipy) (1.15.0)\n",
      "Requirement already satisfied: requests>=2.20.0 in c:\\anaconda3\\envs\\diplodatos-mentoria\\lib\\site-packages (from spotipy) (2.24.0)\n",
      "Requirement already satisfied: certifi>=2017.4.17 in c:\\anaconda3\\envs\\diplodatos-mentoria\\lib\\site-packages (from requests>=2.20.0->spotipy) (2020.6.20)\n",
      "Requirement already satisfied: urllib3!=1.25.0,!=1.25.1,<1.26,>=1.21.1 in c:\\anaconda3\\envs\\diplodatos-mentoria\\lib\\site-packages (from requests>=2.20.0->spotipy) (1.25.9)\n",
      "Requirement already satisfied: chardet<4,>=3.0.2 in c:\\anaconda3\\envs\\diplodatos-mentoria\\lib\\site-packages (from requests>=2.20.0->spotipy) (3.0.4)\n",
      "Requirement already satisfied: idna<3,>=2.5 in c:\\anaconda3\\envs\\diplodatos-mentoria\\lib\\site-packages (from requests>=2.20.0->spotipy) (2.9)\n",
      "Requirement already satisfied: pandas in c:\\anaconda3\\envs\\diplodatos-mentoria\\lib\\site-packages (1.0.5)\n",
      "Requirement already satisfied: python-dateutil>=2.6.1 in c:\\anaconda3\\envs\\diplodatos-mentoria\\lib\\site-packages (from pandas) (2.8.1)\n",
      "Requirement already satisfied: numpy>=1.13.3 in c:\\anaconda3\\envs\\diplodatos-mentoria\\lib\\site-packages (from pandas) (1.19.0)\n",
      "Requirement already satisfied: pytz>=2017.2 in c:\\anaconda3\\envs\\diplodatos-mentoria\\lib\\site-packages (from pandas) (2020.1)\n",
      "Requirement already satisfied: six>=1.5 in c:\\anaconda3\\envs\\diplodatos-mentoria\\lib\\site-packages (from python-dateutil>=2.6.1->pandas) (1.15.0)\n",
      "Requirement already satisfied: spacy in c:\\anaconda3\\envs\\diplodatos-mentoria\\lib\\site-packages (2.3.2)\n",
      "Requirement already satisfied: cymem<2.1.0,>=2.0.2 in c:\\anaconda3\\envs\\diplodatos-mentoria\\lib\\site-packages (from spacy) (2.0.3)\n",
      "Requirement already satisfied: preshed<3.1.0,>=3.0.2 in c:\\anaconda3\\envs\\diplodatos-mentoria\\lib\\site-packages (from spacy) (3.0.2)\n",
      "Requirement already satisfied: blis<0.5.0,>=0.4.0 in c:\\anaconda3\\envs\\diplodatos-mentoria\\lib\\site-packages (from spacy) (0.4.1)\n",
      "Requirement already satisfied: requests<3.0.0,>=2.13.0 in c:\\anaconda3\\envs\\diplodatos-mentoria\\lib\\site-packages (from spacy) (2.24.0)\n",
      "Requirement already satisfied: murmurhash<1.1.0,>=0.28.0 in c:\\anaconda3\\envs\\diplodatos-mentoria\\lib\\site-packages (from spacy) (1.0.2)\n",
      "Requirement already satisfied: wasabi<1.1.0,>=0.4.0 in c:\\anaconda3\\envs\\diplodatos-mentoria\\lib\\site-packages (from spacy) (0.7.1)\n",
      "Requirement already satisfied: thinc==7.4.1 in c:\\anaconda3\\envs\\diplodatos-mentoria\\lib\\site-packages (from spacy) (7.4.1)\n",
      "Requirement already satisfied: catalogue<1.1.0,>=0.0.7 in c:\\anaconda3\\envs\\diplodatos-mentoria\\lib\\site-packages (from spacy) (1.0.0)\n",
      "Requirement already satisfied: tqdm<5.0.0,>=4.38.0 in c:\\anaconda3\\envs\\diplodatos-mentoria\\lib\\site-packages (from spacy) (4.48.0)\n",
      "Requirement already satisfied: plac<1.2.0,>=0.9.6 in c:\\anaconda3\\envs\\diplodatos-mentoria\\lib\\site-packages (from spacy) (1.1.3)\n",
      "Requirement already satisfied: numpy>=1.15.0 in c:\\anaconda3\\envs\\diplodatos-mentoria\\lib\\site-packages (from spacy) (1.19.0)\n",
      "Requirement already satisfied: setuptools in c:\\anaconda3\\envs\\diplodatos-mentoria\\lib\\site-packages (from spacy) (47.3.0.post20200616)\n",
      "Requirement already satisfied: srsly<1.1.0,>=1.0.2 in c:\\anaconda3\\envs\\diplodatos-mentoria\\lib\\site-packages (from spacy) (1.0.2)\n",
      "Requirement already satisfied: idna<3,>=2.5 in c:\\anaconda3\\envs\\diplodatos-mentoria\\lib\\site-packages (from requests<3.0.0,>=2.13.0->spacy) (2.9)\n",
      "Requirement already satisfied: chardet<4,>=3.0.2 in c:\\anaconda3\\envs\\diplodatos-mentoria\\lib\\site-packages (from requests<3.0.0,>=2.13.0->spacy) (3.0.4)\n",
      "Requirement already satisfied: urllib3!=1.25.0,!=1.25.1,<1.26,>=1.21.1 in c:\\anaconda3\\envs\\diplodatos-mentoria\\lib\\site-packages (from requests<3.0.0,>=2.13.0->spacy) (1.25.9)\n",
      "Requirement already satisfied: certifi>=2017.4.17 in c:\\anaconda3\\envs\\diplodatos-mentoria\\lib\\site-packages (from requests<3.0.0,>=2.13.0->spacy) (2020.6.20)\n",
      "Requirement already satisfied: pymusixmatch in c:\\anaconda3\\envs\\diplodatos-mentoria\\lib\\site-packages (0.3)\n",
      "Requirement already satisfied: requests in c:\\anaconda3\\envs\\diplodatos-mentoria\\lib\\site-packages (from pymusixmatch) (2.24.0)\n",
      "Requirement already satisfied: idna<3,>=2.5 in c:\\anaconda3\\envs\\diplodatos-mentoria\\lib\\site-packages (from requests->pymusixmatch) (2.9)\n",
      "Requirement already satisfied: urllib3!=1.25.0,!=1.25.1,<1.26,>=1.21.1 in c:\\anaconda3\\envs\\diplodatos-mentoria\\lib\\site-packages (from requests->pymusixmatch) (1.25.9)\n",
      "Requirement already satisfied: chardet<4,>=3.0.2 in c:\\anaconda3\\envs\\diplodatos-mentoria\\lib\\site-packages (from requests->pymusixmatch) (3.0.4)\n",
      "Requirement already satisfied: certifi>=2017.4.17 in c:\\anaconda3\\envs\\diplodatos-mentoria\\lib\\site-packages (from requests->pymusixmatch) (2020.6.20)\n",
      "Requirement already satisfied: nltk in c:\\anaconda3\\envs\\diplodatos-mentoria\\lib\\site-packages (3.5)\n",
      "Requirement already satisfied: regex in c:\\anaconda3\\envs\\diplodatos-mentoria\\lib\\site-packages (from nltk) (2020.7.14)\n",
      "Requirement already satisfied: click in c:\\anaconda3\\envs\\diplodatos-mentoria\\lib\\site-packages (from nltk) (7.1.2)\n",
      "Requirement already satisfied: tqdm in c:\\anaconda3\\envs\\diplodatos-mentoria\\lib\\site-packages (from nltk) (4.48.0)\n",
      "Requirement already satisfied: joblib in c:\\anaconda3\\envs\\diplodatos-mentoria\\lib\\site-packages (from nltk) (0.16.0)\n",
      "Requirement already satisfied: lyricsgenius in c:\\anaconda3\\envs\\diplodatos-mentoria\\lib\\site-packages (1.8.6)\n",
      "Requirement already satisfied: requests>=2.20.0 in c:\\anaconda3\\envs\\diplodatos-mentoria\\lib\\site-packages (from lyricsgenius) (2.24.0)\n",
      "Requirement already satisfied: beautifulsoup4==4.6.0 in c:\\anaconda3\\envs\\diplodatos-mentoria\\lib\\site-packages (from lyricsgenius) (4.6.0)\n",
      "Requirement already satisfied: urllib3!=1.25.0,!=1.25.1,<1.26,>=1.21.1 in c:\\anaconda3\\envs\\diplodatos-mentoria\\lib\\site-packages (from requests>=2.20.0->lyricsgenius) (1.25.9)\n",
      "Requirement already satisfied: certifi>=2017.4.17 in c:\\anaconda3\\envs\\diplodatos-mentoria\\lib\\site-packages (from requests>=2.20.0->lyricsgenius) (2020.6.20)\n",
      "Requirement already satisfied: idna<3,>=2.5 in c:\\anaconda3\\envs\\diplodatos-mentoria\\lib\\site-packages (from requests>=2.20.0->lyricsgenius) (2.9)\n",
      "Requirement already satisfied: chardet<4,>=3.0.2 in c:\\anaconda3\\envs\\diplodatos-mentoria\\lib\\site-packages (from requests>=2.20.0->lyricsgenius) (3.0.4)\n"
     ]
    }
   ],
   "source": [
    "!pip3 install spotipy\n",
    "!pip3 install pandas\n",
    "!pip3 install spacy\n",
    "!pip3 install pymusixmatch\n",
    "!pip3 install nltk\n",
    "!pip install lyricsgenius\n",
    "# Agregar las librerías extra que se utilicen en esta celda y la siguiente"
   ]
  },
  {
   "cell_type": "markdown",
   "metadata": {
    "colab_type": "text",
    "id": "8JOUSTV-9-pR"
   },
   "source": [
    "### Dependencias y acceso al API"
   ]
  },
  {
   "cell_type": "code",
   "execution_count": 2,
   "metadata": {
    "colab": {},
    "colab_type": "code",
    "id": "cCCCZ_ra9-pS"
   },
   "outputs": [],
   "source": [
    "import pandas as pd\n",
    "import numpy as np\n",
    "import spotipy\n",
    "import spacy\n",
    "from spotipy.oauth2 import SpotifyClientCredentials\n",
    "from musixmatch import Musixmatch\n",
    "import lyricsgenius\n",
    "\n",
    "#nlp = spacy.load(\"en_core_web_sm\") #completar con el modelo que van a utilizar\n",
    "\n",
    "#musixmatch = Musixmatch('1aa5272f4402bf2f082ad2f3958c2c62')"
   ]
  },
  {
   "cell_type": "markdown",
   "metadata": {
    "colab_type": "text",
    "id": "5T0VHHqe9-pW"
   },
   "source": [
    "### 1) Plantear una pregunta que quieran responder con estos datos\n",
    "\n",
    "Las preguntas pueden ser por ejemplo: \n",
    "- ¿Por qué este artista destaca dentro de su género?\n",
    "- ¿Por qué no lo hace?\n",
    "- ¿Por qué un género musical es más escuchado que otro?\n",
    "\n",
    "Sin embargo, pueden usar cualquier afirmación que hayan leído en internet y que se pueda responder con los datos este trabajo para validarla o rechazarla."
   ]
  },
  {
   "cell_type": "markdown",
   "metadata": {
    "colab_type": "text",
    "id": "Ui2C9a4qcvNf"
   },
   "source": [
    "## Respuesta\n",
    "**Andres Calamaro** es un cantautor, músico, compositor y productor discográfico argentino. Es considerado como un icono dentro del género del Rock Argentino. **Andres Calamaro**, ganador premios internacionales, va ser objeto de estudio en este trabajo. Se recolectara información del cantante con el objetivo de poder responder las siguientes preguntas:\n",
    "  * ¿Por que Andres Calamaro destaca dentro de su género, rock argentino y latino?\n",
    "  * ¿Que diferencia o similitudes tienen los temas musicales con otros cantantes destacados del mismo genero? Tales como Fito Paez, Bersuit Vergarabat, Divididos, Los Abuelos de la Nada"
   ]
  },
  {
   "cell_type": "markdown",
   "metadata": {
    "colab_type": "text",
    "id": "6DY7KM4RrPZh"
   },
   "source": [
    "\n",
    "### Carga de dataset\n"
   ]
  },
  {
   "cell_type": "code",
   "execution_count": 3,
   "metadata": {
    "colab": {},
    "colab_type": "code",
    "id": "8E-HgP0GrOTO"
   },
   "outputs": [
    {
     "name": "stderr",
     "output_type": "stream",
     "text": [
      "[nltk_data] Downloading package stopwords to C:\\Users\\Data\n",
      "[nltk_data]     Science\\AppData\\Roaming\\nltk_data...\n",
      "[nltk_data]   Package stopwords is already up-to-date!\n",
      "[nltk_data] Downloading package punkt to C:\\Users\\Data\n",
      "[nltk_data]     Science\\AppData\\Roaming\\nltk_data...\n",
      "[nltk_data]   Package punkt is already up-to-date!\n"
     ]
    }
   ],
   "source": [
    "import os.path\n",
    "from os import path\n",
    "import string\n",
    "import re\n",
    "import numpy as np \n",
    "import matplotlib.pyplot as plt\n",
    "from collections import Counter\n",
    "\n",
    "import nltk\n",
    "nltk.download('stopwords')\n",
    "nltk.download('punkt')\n",
    "\n",
    "import spacy  \n",
    "spacy_nlp = spacy.load(\"es_core_news_sm\")   \n",
    "\n",
    "csv_folder_path = './TP_2_CSV_Files/{}'\n",
    "genius_token = \"upzErEoYU9BAcEOF0WUIQ-Rw_fxFYrU6QeqVhlHXUEc-7VI1jxZvQNiiTGDigvpk\"\n",
    "andres_calamaro_id = \"3tAICgiSR5PfYY4B8qsoAU\"\n",
    "andres_calamaro_name= \"Andrés Calamaro\"\n",
    "spotify_client_id = \"46b333d567314a89a6254b6c6b054be6\"\n",
    "spotify_client_secret = \"9d922c3613e441518349dcf55f7d5853\"\n",
    "client_credentials_manager = SpotifyClientCredentials(client_id=spotify_client_id, client_secret=spotify_client_secret)\n",
    "\n",
    "spotify = spotipy.Spotify(client_credentials_manager=client_credentials_manager)\n",
    "genius = lyricsgenius.Genius(\"upzErEoYU9BAcEOF0WUIQ-Rw_fxFYrU6QeqVhlHXUEc-7VI1jxZvQNiiTGDigvpk\")\n",
    "\n",
    "\n",
    "def getLyricsFromGeniusToCSV(file_name, artist_name, max_songs=5, sort='popularity', col_sep_csv = ','):\n",
    "    if not path.exists(file_name):        \n",
    "        artist = genius.search_artist(artist_name, max_songs=max_songs, sort= sort)\n",
    "        songs_dict = {'track_name':[], 'artist_name':[], 'lyrics': []}\n",
    "        for song in artist.songs:    \n",
    "            songs_dict['track_name'].append(song.title)    \n",
    "            songs_dict['artist_name'].append(song.artist)\n",
    "            songs_dict['lyrics'].append(song.lyrics)\n",
    "            \n",
    "        data_frame = pd.DataFrame(songs_dict)\n",
    "        data_frame.to_csv(file_name,  encoding='utf-8', index=False, sep= col_sep_csv)\n",
    "    else:\n",
    "        error_message = 'The file {} already exist.'\n",
    "        raise Exception(error_message.format(file_name))\n",
    "        \n",
    "def getdfRelatedArtistFromSpotify(artist_id, max_artists = 1):\n",
    "    artists_related = spotify.artist_related_artists(andres_calamaro_id)\n",
    "    artists_related_list = artists_related['artists']\n",
    "    artists_dict = {'id':[], 'name':[]}\n",
    "    artists_range = max_artists if len(artists_related_list) >= max_artists else len(artists_related_list)\n",
    "    for i in range(artists_range):\n",
    "        artists_dict['id'].append(artists_related_list[i]['id'])\n",
    "        artists_dict['name'].append(artists_related_list[i]['name'])\n",
    "    return pd.DataFrame(artists_dict)\n",
    "\n",
    "def getLyricsFromArtistsDF(artists_df, max_songs=5, sort='popularity', col_sep_csv = ','):    \n",
    "    for artist_name in artists_df['name']:\n",
    "        file_name = artist_name + '_' + str(max_songs) + '.csv'\n",
    "        try:\n",
    "            getLyricsFromGeniusToCSV(csv_folder_path.format(file_name), artist_name, max_songs=max_songs, sort=sort, col_sep_csv = col_sep_csv)\n",
    "        except Exception as err:\n",
    "            print('Handling exception: ', err)\n",
    "\n",
    "def getDFJoingArtistFiles(artists_df, suffix='', extension='csv', folder_path='./', sep = ','):\n",
    "    file_name = '{}{}.{}'\n",
    "    data_frame = None\n",
    "    for artist_name in artists_df['name']:\n",
    "        if data_frame is not None:\n",
    "            path = folder_path + file_name.format(artist_name, suffix, extension)\n",
    "            df = pd.read_csv(path , sep=sep)\n",
    "            data_frame = data_frame.append(df)\n",
    "        else:\n",
    "            path = folder_path + file_name.format(artist_name, suffix, extension)            \n",
    "            data_frame = pd.read_csv(path, sep=sep)\n",
    "    data_frame.reset_index()\n",
    "    return data_frame\n",
    "        \n",
    "def remove_punctuation(txt):\n",
    "    text = str(txt)\n",
    "    spanish_punctuation = string.punctuation + '¿¡'\n",
    "    txt_no_puntuation = \"\".join([ c.lower() for c in text if c not in spanish_punctuation])\n",
    "    return txt_no_puntuation\n",
    "\n",
    "def tokenizar_spicy(txt):\n",
    "    return spacy_nlp(txt)\n",
    "\n",
    "def remove_stopwords_spicy(tokenize_data, language='spanish'):\n",
    "    stopwords = nltk.corpus.stopwords.words(language)\n",
    "    return [word for word in tokenize_data if word.text not in stopwords]\n",
    "\n",
    "def lemmatization_spicy(tokenize_data):\n",
    "     return [word.lemma_ for word in tokenize_data if word.text.strip() not in '']\n",
    "\n",
    "def getMostCommonsBigramsArtist(data_frame, artist_name, max_top = 10):\n",
    "    df = data_frame[data_frame['artista'] == artist_name]\n",
    "    df = df[['artista','letra']]\n",
    "    group_by_df = df.groupby(['artista'], as_index = False).agg({'letra': 'sum' }).reset_index()   \n",
    "    row = group_by_df.iloc[[0]]  \n",
    "    bigrams = nltk.bigrams(row['letra'].values[0])\n",
    "    brigrams_count = Counter(bigrams)    \n",
    "    df_bigram = pd.DataFrame(brigrams_count.most_common(max_top), columns=['Bigrams','Frecuency'])\n",
    "    return df_bigram\n",
    "                           \n",
    "def getMostCommonsUnigramsArtist(data_frame, artist_name, max_top = 10):\n",
    "    df = data_frame[data_frame['artista'] == artist_name]\n",
    "    df = df[['artista','letra']]\n",
    "    group_by_df = df.groupby(['artista'], as_index = False).agg({'letra': 'sum' }).reset_index()   \n",
    "    row = group_by_df.iloc[[0]]  \n",
    "    unigrams = nltk.ngrams(row['letra'].values[0],1)\n",
    "    unigrams_count = Counter(unigrams)    \n",
    "    df_unigram = pd.DataFrame(unigrams_count.most_common(max_top), columns=['Unigrams','Frecuency'])\n",
    "    return df_unigram\n",
    "                       \n",
    "\n"
   ]
  },
  {
   "cell_type": "code",
   "execution_count": 4,
   "metadata": {},
   "outputs": [
    {
     "name": "stdout",
     "output_type": "stream",
     "text": [
      "Handling exception:  The file ./TP_2_CSV_Files/Andrés Calamaro_100.csv already exist.\n"
     ]
    }
   ],
   "source": [
    "calamaro_file_name =  andres_calamaro_name + '_100.csv'\n",
    "try:\n",
    "    getLyricsFromGeniusToCSV(file_name=csv_folder_path.format(calamaro_file_name),  max_songs=100, artist_name = andres_calamaro_name, col_sep_csv = '#')\n",
    "except Exception as err:\n",
    "    print('Handling exception: ', err)"
   ]
  },
  {
   "cell_type": "code",
   "execution_count": 5,
   "metadata": {},
   "outputs": [
    {
     "name": "stdout",
     "output_type": "stream",
     "text": [
      "Handling exception:  The file ./TP_2_CSV_Files/Fabiana Cantilo_100.csv already exist.\n",
      "Handling exception:  The file ./TP_2_CSV_Files/Los Rodriguez_100.csv already exist.\n",
      "Handling exception:  The file ./TP_2_CSV_Files/Fito Paez_100.csv already exist.\n",
      "Handling exception:  The file ./TP_2_CSV_Files/Los Tipitos_100.csv already exist.\n",
      "Handling exception:  The file ./TP_2_CSV_Files/Charly García_100.csv already exist.\n",
      "Handling exception:  The file ./TP_2_CSV_Files/Estelares_100.csv already exist.\n",
      "Handling exception:  The file ./TP_2_CSV_Files/Bersuit Vergarabat_100.csv already exist.\n",
      "Handling exception:  The file ./TP_2_CSV_Files/Catupecu Machu_100.csv already exist.\n",
      "Handling exception:  The file ./TP_2_CSV_Files/Mancha De Rolando_100.csv already exist.\n",
      "Handling exception:  The file ./TP_2_CSV_Files/Turf_100.csv already exist.\n",
      "Handling exception:  The file ./TP_2_CSV_Files/Memphis La Blusera_100.csv already exist.\n",
      "Handling exception:  The file ./TP_2_CSV_Files/Los Caballeros De La Quema_100.csv already exist.\n",
      "Handling exception:  The file ./TP_2_CSV_Files/Los Abuelos De La Nada_100.csv already exist.\n",
      "Handling exception:  The file ./TP_2_CSV_Files/Serú Girán_100.csv already exist.\n",
      "Handling exception:  The file ./TP_2_CSV_Files/Los Piojos_100.csv already exist.\n",
      "Handling exception:  The file ./TP_2_CSV_Files/Vicentico_100.csv already exist.\n",
      "Handling exception:  The file ./TP_2_CSV_Files/La Portuaria_100.csv already exist.\n",
      "Handling exception:  The file ./TP_2_CSV_Files/Ratones Paranoicos_100.csv already exist.\n",
      "Handling exception:  The file ./TP_2_CSV_Files/Intoxicados_100.csv already exist.\n",
      "Handling exception:  The file ./TP_2_CSV_Files/Divididos_100.csv already exist.\n"
     ]
    }
   ],
   "source": [
    "related_artists = getdfRelatedArtistFromSpotify(andres_calamaro_id, max_artists = 20 )\n",
    "getLyricsFromArtistsDF(related_artists, max_songs=100, col_sep_csv = '#')"
   ]
  },
  {
   "cell_type": "code",
   "execution_count": 6,
   "metadata": {},
   "outputs": [
    {
     "data": {
      "text/html": [
       "<div>\n",
       "<style scoped>\n",
       "    .dataframe tbody tr th:only-of-type {\n",
       "        vertical-align: middle;\n",
       "    }\n",
       "\n",
       "    .dataframe tbody tr th {\n",
       "        vertical-align: top;\n",
       "    }\n",
       "\n",
       "    .dataframe thead th {\n",
       "        text-align: right;\n",
       "    }\n",
       "</style>\n",
       "<table border=\"1\" class=\"dataframe\">\n",
       "  <thead>\n",
       "    <tr style=\"text-align: right;\">\n",
       "      <th></th>\n",
       "      <th>track_name</th>\n",
       "      <th>artist_name</th>\n",
       "      <th>lyrics</th>\n",
       "    </tr>\n",
       "  </thead>\n",
       "  <tbody>\n",
       "    <tr>\n",
       "      <th>0</th>\n",
       "      <td>Flaca</td>\n",
       "      <td>Andrés Calamaro</td>\n",
       "      <td>[Letra de \"Flaca\"]\\n\\n[Coro]\\nFlaca, no me cla...</td>\n",
       "    </tr>\n",
       "    <tr>\n",
       "      <th>1</th>\n",
       "      <td>Mil horas</td>\n",
       "      <td>Andrés Calamaro</td>\n",
       "      <td>Hace frío y estoy lejos de casa\\nHace tiempo q...</td>\n",
       "    </tr>\n",
       "    <tr>\n",
       "      <th>2</th>\n",
       "      <td>La parte de adelante</td>\n",
       "      <td>Andrés Calamaro</td>\n",
       "      <td>[Letra de \"La parte de adelante\"]\\n\\nSoy vulne...</td>\n",
       "    </tr>\n",
       "    <tr>\n",
       "      <th>3</th>\n",
       "      <td>Loco</td>\n",
       "      <td>Andrés Calamaro</td>\n",
       "      <td>[Letra de \"Loco\"]\\n\\n[Verso]\\nVoy a salir a ca...</td>\n",
       "    </tr>\n",
       "    <tr>\n",
       "      <th>4</th>\n",
       "      <td>Crímenes Perfectos</td>\n",
       "      <td>Andrés Calamaro</td>\n",
       "      <td>[Letra de \"Crímenes Perfectos\"]\\n\\nSentiste al...</td>\n",
       "    </tr>\n",
       "    <tr>\n",
       "      <th>...</th>\n",
       "      <td>...</td>\n",
       "      <td>...</td>\n",
       "      <td>...</td>\n",
       "    </tr>\n",
       "    <tr>\n",
       "      <th>95</th>\n",
       "      <td>Obsesion - con Diego El Cigala</td>\n",
       "      <td>Andrés Calamaro</td>\n",
       "      <td>Por alto esté el cielo en el mundo\\nPor hondo ...</td>\n",
       "    </tr>\n",
       "    <tr>\n",
       "      <th>96</th>\n",
       "      <td>No son horas</td>\n",
       "      <td>Andrés Calamaro</td>\n",
       "      <td>Si te dicen que caí\\nY es verdad, y es es verd...</td>\n",
       "    </tr>\n",
       "    <tr>\n",
       "      <th>97</th>\n",
       "      <td>Voy a perder la cabeza por tu amor</td>\n",
       "      <td>Andrés Calamaro</td>\n",
       "      <td>Voy a perder la cabeza por tu amor\\nPorque tú ...</td>\n",
       "    </tr>\n",
       "    <tr>\n",
       "      <th>98</th>\n",
       "      <td>Señal que te he perdido</td>\n",
       "      <td>Andrés Calamaro</td>\n",
       "      <td>Abro la puerta\\nComo un poeta fértil\\nDándose ...</td>\n",
       "    </tr>\n",
       "    <tr>\n",
       "      <th>99</th>\n",
       "      <td>De Orgullo Y De Miedo</td>\n",
       "      <td>Andrés Calamaro</td>\n",
       "      <td>Tardé tanto tiempo en encontrarte\\nHabría sali...</td>\n",
       "    </tr>\n",
       "  </tbody>\n",
       "</table>\n",
       "<p>100 rows × 3 columns</p>\n",
       "</div>"
      ],
      "text/plain": [
       "                            track_name      artist_name  \\\n",
       "0                                Flaca  Andrés Calamaro   \n",
       "1                            Mil horas  Andrés Calamaro   \n",
       "2                 La parte de adelante  Andrés Calamaro   \n",
       "3                                 Loco  Andrés Calamaro   \n",
       "4                   Crímenes Perfectos  Andrés Calamaro   \n",
       "..                                 ...              ...   \n",
       "95      Obsesion - con Diego El Cigala  Andrés Calamaro   \n",
       "96                        No son horas  Andrés Calamaro   \n",
       "97  Voy a perder la cabeza por tu amor  Andrés Calamaro   \n",
       "98             Señal que te he perdido  Andrés Calamaro   \n",
       "99               De Orgullo Y De Miedo  Andrés Calamaro   \n",
       "\n",
       "                                               lyrics  \n",
       "0   [Letra de \"Flaca\"]\\n\\n[Coro]\\nFlaca, no me cla...  \n",
       "1   Hace frío y estoy lejos de casa\\nHace tiempo q...  \n",
       "2   [Letra de \"La parte de adelante\"]\\n\\nSoy vulne...  \n",
       "3   [Letra de \"Loco\"]\\n\\n[Verso]\\nVoy a salir a ca...  \n",
       "4   [Letra de \"Crímenes Perfectos\"]\\n\\nSentiste al...  \n",
       "..                                                ...  \n",
       "95  Por alto esté el cielo en el mundo\\nPor hondo ...  \n",
       "96  Si te dicen que caí\\nY es verdad, y es es verd...  \n",
       "97  Voy a perder la cabeza por tu amor\\nPorque tú ...  \n",
       "98  Abro la puerta\\nComo un poeta fértil\\nDándose ...  \n",
       "99  Tardé tanto tiempo en encontrarte\\nHabría sali...  \n",
       "\n",
       "[100 rows x 3 columns]"
      ]
     },
     "execution_count": 6,
     "metadata": {},
     "output_type": "execute_result"
    }
   ],
   "source": [
    "andres_calamaro_path = csv_folder_path.format(calamaro_file_name)\n",
    "df_andres_calamaro = pd.read_csv(andres_calamaro_path, sep='#')\n",
    "df_andres_calamaro\n"
   ]
  },
  {
   "cell_type": "code",
   "execution_count": 7,
   "metadata": {},
   "outputs": [
    {
     "data": {
      "text/html": [
       "<div>\n",
       "<style scoped>\n",
       "    .dataframe tbody tr th:only-of-type {\n",
       "        vertical-align: middle;\n",
       "    }\n",
       "\n",
       "    .dataframe tbody tr th {\n",
       "        vertical-align: top;\n",
       "    }\n",
       "\n",
       "    .dataframe thead th {\n",
       "        text-align: right;\n",
       "    }\n",
       "</style>\n",
       "<table border=\"1\" class=\"dataframe\">\n",
       "  <thead>\n",
       "    <tr style=\"text-align: right;\">\n",
       "      <th></th>\n",
       "      <th>track_name</th>\n",
       "      <th>artist_name</th>\n",
       "      <th>lyrics</th>\n",
       "    </tr>\n",
       "  </thead>\n",
       "  <tbody>\n",
       "    <tr>\n",
       "      <th>0</th>\n",
       "      <td>Mi Enfermedad</td>\n",
       "      <td>Fabiana Cantilo</td>\n",
       "      <td>[Letra de \"Mi Enfermedad\"]\\n\\n[Estribillo]\\nEs...</td>\n",
       "    </tr>\n",
       "    <tr>\n",
       "      <th>1</th>\n",
       "      <td>Fue Amor</td>\n",
       "      <td>Fabiana Cantilo</td>\n",
       "      <td>[Letra de \"Fue Amor\"]\\n\\n[Verso 1]\\nYo podría ...</td>\n",
       "    </tr>\n",
       "    <tr>\n",
       "      <th>2</th>\n",
       "      <td>Nada Es Para Siempre</td>\n",
       "      <td>Fabiana Cantilo</td>\n",
       "      <td>[Letra de \"Nada Es Para Siempre\"]\\n\\n[Verso 1]...</td>\n",
       "    </tr>\n",
       "    <tr>\n",
       "      <th>3</th>\n",
       "      <td>Amanece En La Ruta</td>\n",
       "      <td>Fabiana Cantilo</td>\n",
       "      <td>[Letra de \"Amanece en la Ruta\"]\\n\\nAmanece en ...</td>\n",
       "    </tr>\n",
       "    <tr>\n",
       "      <th>4</th>\n",
       "      <td>Mary Poppins y el Deshollinador</td>\n",
       "      <td>Fabiana Cantilo</td>\n",
       "      <td>[Letra de \"Mary Poppins y el Deshollinador\"]\\n...</td>\n",
       "    </tr>\n",
       "    <tr>\n",
       "      <th>...</th>\n",
       "      <td>...</td>\n",
       "      <td>...</td>\n",
       "      <td>...</td>\n",
       "    </tr>\n",
       "    <tr>\n",
       "      <th>95</th>\n",
       "      <td>Cosas De Baboon</td>\n",
       "      <td>Divididos</td>\n",
       "      <td>Si queres saber\\nDonde clava el escorpión\\nSi ...</td>\n",
       "    </tr>\n",
       "    <tr>\n",
       "      <th>96</th>\n",
       "      <td>Puertas</td>\n",
       "      <td>Divididos</td>\n",
       "      <td>Que puertas abrir\\nQue puertas cerrar\\nQue pue...</td>\n",
       "    </tr>\n",
       "    <tr>\n",
       "      <th>97</th>\n",
       "      <td>Sopa de tortuga</td>\n",
       "      <td>Divididos</td>\n",
       "      <td>Comencé a entender cuando escuche\\nEsta oferta...</td>\n",
       "    </tr>\n",
       "    <tr>\n",
       "      <th>98</th>\n",
       "      <td>Libre El Jabalí</td>\n",
       "      <td>Divididos</td>\n",
       "      <td>Con la pilcha equivocada me estrellé\\nCaí redo...</td>\n",
       "    </tr>\n",
       "    <tr>\n",
       "      <th>99</th>\n",
       "      <td>Niño Hereje</td>\n",
       "      <td>Divididos</td>\n",
       "      <td>Niño hereje, niño hereje\\nNunca salga sin su f...</td>\n",
       "    </tr>\n",
       "  </tbody>\n",
       "</table>\n",
       "<p>1512 rows × 3 columns</p>\n",
       "</div>"
      ],
      "text/plain": [
       "                         track_name      artist_name  \\\n",
       "0                     Mi Enfermedad  Fabiana Cantilo   \n",
       "1                          Fue Amor  Fabiana Cantilo   \n",
       "2              Nada Es Para Siempre  Fabiana Cantilo   \n",
       "3                Amanece En La Ruta  Fabiana Cantilo   \n",
       "4   Mary Poppins y el Deshollinador  Fabiana Cantilo   \n",
       "..                              ...              ...   \n",
       "95                  Cosas De Baboon        Divididos   \n",
       "96                          Puertas        Divididos   \n",
       "97                  Sopa de tortuga        Divididos   \n",
       "98                  Libre El Jabalí        Divididos   \n",
       "99                      Niño Hereje        Divididos   \n",
       "\n",
       "                                               lyrics  \n",
       "0   [Letra de \"Mi Enfermedad\"]\\n\\n[Estribillo]\\nEs...  \n",
       "1   [Letra de \"Fue Amor\"]\\n\\n[Verso 1]\\nYo podría ...  \n",
       "2   [Letra de \"Nada Es Para Siempre\"]\\n\\n[Verso 1]...  \n",
       "3   [Letra de \"Amanece en la Ruta\"]\\n\\nAmanece en ...  \n",
       "4   [Letra de \"Mary Poppins y el Deshollinador\"]\\n...  \n",
       "..                                                ...  \n",
       "95  Si queres saber\\nDonde clava el escorpión\\nSi ...  \n",
       "96  Que puertas abrir\\nQue puertas cerrar\\nQue pue...  \n",
       "97  Comencé a entender cuando escuche\\nEsta oferta...  \n",
       "98  Con la pilcha equivocada me estrellé\\nCaí redo...  \n",
       "99  Niño hereje, niño hereje\\nNunca salga sin su f...  \n",
       "\n",
       "[1512 rows x 3 columns]"
      ]
     },
     "execution_count": 7,
     "metadata": {},
     "output_type": "execute_result"
    }
   ],
   "source": [
    "df_related_artists = getDFJoingArtistFiles(artists_df=related_artists, suffix='_100', extension='csv', folder_path=csv_folder_path.format(''), sep='#')\n",
    "df_related_artists"
   ]
  },
  {
   "cell_type": "markdown",
   "metadata": {
    "colab_type": "text",
    "id": "a3st4ntX9-pa"
   },
   "source": [
    "### 2) Obtener datos para responder la pregunta\n",
    "\n",
    "Para extraer las letras de las canciones usaremos la [API de MusiXmatch](https://developer.musixmatch.com/documentation) a través de su [wrapper en Python](https://github.com/hudsonbrendon/python-musixmatch).\n",
    "Una vez obtenidas las letras de las canciones, las procesaremos de la siguiente manera:\n",
    "1. Tokenizar\n",
    "2. Remover las [stop-words](https://es.wikipedia.org/wiki/Palabra_vac%C3%ADa)\n",
    "3. [Lema](https://es.wikipedia.org/wiki/Lema_(ling%C3%BC%C3%ADstica))tizar las palabras que hayan quedado\n",
    "4. Organizar todo en un DataFrame de la forma Canción-Artista-Letra donde Letra es el resultado de 3.\n",
    "\n",
    "**Recomendación** : Usar un dataframe para su artista y otro para la competencia si es que eligierone esa opción, les va a ahorrar tiempo.\n",
    "\n",
    "**Aclaración** : Si plantearon una pregunta que no requiera los datos de la consigna, obtengan esos datos."
   ]
  },
  {
   "cell_type": "code",
   "execution_count": 8,
   "metadata": {},
   "outputs": [
    {
     "data": {
      "text/html": [
       "<div>\n",
       "<style scoped>\n",
       "    .dataframe tbody tr th:only-of-type {\n",
       "        vertical-align: middle;\n",
       "    }\n",
       "\n",
       "    .dataframe tbody tr th {\n",
       "        vertical-align: top;\n",
       "    }\n",
       "\n",
       "    .dataframe thead th {\n",
       "        text-align: right;\n",
       "    }\n",
       "</style>\n",
       "<table border=\"1\" class=\"dataframe\">\n",
       "  <thead>\n",
       "    <tr style=\"text-align: right;\">\n",
       "      <th></th>\n",
       "      <th>cancion</th>\n",
       "      <th>artista</th>\n",
       "      <th>letra</th>\n",
       "    </tr>\n",
       "  </thead>\n",
       "  <tbody>\n",
       "    <tr>\n",
       "      <th>0</th>\n",
       "      <td>Flaca</td>\n",
       "      <td>Andrés Calamaro</td>\n",
       "      <td>[letra, flaco, coro, flaco, clave, puñal, espa...</td>\n",
       "    </tr>\n",
       "    <tr>\n",
       "      <th>1</th>\n",
       "      <td>Mil horas</td>\n",
       "      <td>Andrés Calamaro</td>\n",
       "      <td>[hacer, freír, lejos, casar, hacer, tiempo, se...</td>\n",
       "    </tr>\n",
       "    <tr>\n",
       "      <th>2</th>\n",
       "      <td>La parte de adelante</td>\n",
       "      <td>Andrés Calamaro</td>\n",
       "      <td>[letra, partir, adelantar, vulnerable, lado, a...</td>\n",
       "    </tr>\n",
       "    <tr>\n",
       "      <th>3</th>\n",
       "      <td>Loco</td>\n",
       "      <td>Andrés Calamaro</td>\n",
       "      <td>[letra, loco, versar, ir, salir, caminar, soli...</td>\n",
       "    </tr>\n",
       "    <tr>\n",
       "      <th>4</th>\n",
       "      <td>Crímenes Perfectos</td>\n",
       "      <td>Andrés Calamaro</td>\n",
       "      <td>[letra, crimen, perfecto, sentir, alguno, vez,...</td>\n",
       "    </tr>\n",
       "    <tr>\n",
       "      <th>...</th>\n",
       "      <td>...</td>\n",
       "      <td>...</td>\n",
       "      <td>...</td>\n",
       "    </tr>\n",
       "    <tr>\n",
       "      <th>95</th>\n",
       "      <td>Obsesion - con Diego El Cigala</td>\n",
       "      <td>Andrés Calamaro</td>\n",
       "      <td>[alto, cielo, mundo, hondo, mar, profundar, ba...</td>\n",
       "    </tr>\n",
       "    <tr>\n",
       "      <th>96</th>\n",
       "      <td>No son horas</td>\n",
       "      <td>Andrés Calamaro</td>\n",
       "      <td>[si, decir, caer, verdad, verdad, sentir, segu...</td>\n",
       "    </tr>\n",
       "    <tr>\n",
       "      <th>97</th>\n",
       "      <td>Voy a perder la cabeza por tu amor</td>\n",
       "      <td>Andrés Calamaro</td>\n",
       "      <td>[ir, perder, cabeza, amor, aguar, fuego, compr...</td>\n",
       "    </tr>\n",
       "    <tr>\n",
       "      <th>98</th>\n",
       "      <td>Señal que te he perdido</td>\n",
       "      <td>Andrés Calamaro</td>\n",
       "      <td>[abrir, puerta, poeta, fértil, dándose, conoce...</td>\n",
       "    </tr>\n",
       "    <tr>\n",
       "      <th>99</th>\n",
       "      <td>De Orgullo Y De Miedo</td>\n",
       "      <td>Andrés Calamaro</td>\n",
       "      <td>[tardar, tiempo, encontrarte, salir, buscarte,...</td>\n",
       "    </tr>\n",
       "  </tbody>\n",
       "</table>\n",
       "<p>100 rows × 3 columns</p>\n",
       "</div>"
      ],
      "text/plain": [
       "                               cancion          artista  \\\n",
       "0                                Flaca  Andrés Calamaro   \n",
       "1                            Mil horas  Andrés Calamaro   \n",
       "2                 La parte de adelante  Andrés Calamaro   \n",
       "3                                 Loco  Andrés Calamaro   \n",
       "4                   Crímenes Perfectos  Andrés Calamaro   \n",
       "..                                 ...              ...   \n",
       "95      Obsesion - con Diego El Cigala  Andrés Calamaro   \n",
       "96                        No son horas  Andrés Calamaro   \n",
       "97  Voy a perder la cabeza por tu amor  Andrés Calamaro   \n",
       "98             Señal que te he perdido  Andrés Calamaro   \n",
       "99               De Orgullo Y De Miedo  Andrés Calamaro   \n",
       "\n",
       "                                                letra  \n",
       "0   [letra, flaco, coro, flaco, clave, puñal, espa...  \n",
       "1   [hacer, freír, lejos, casar, hacer, tiempo, se...  \n",
       "2   [letra, partir, adelantar, vulnerable, lado, a...  \n",
       "3   [letra, loco, versar, ir, salir, caminar, soli...  \n",
       "4   [letra, crimen, perfecto, sentir, alguno, vez,...  \n",
       "..                                                ...  \n",
       "95  [alto, cielo, mundo, hondo, mar, profundar, ba...  \n",
       "96  [si, decir, caer, verdad, verdad, sentir, segu...  \n",
       "97  [ir, perder, cabeza, amor, aguar, fuego, compr...  \n",
       "98  [abrir, puerta, poeta, fértil, dándose, conoce...  \n",
       "99  [tardar, tiempo, encontrarte, salir, buscarte,...  \n",
       "\n",
       "[100 rows x 3 columns]"
      ]
     },
     "execution_count": 8,
     "metadata": {},
     "output_type": "execute_result"
    }
   ],
   "source": [
    "df_andres_calamaro['letra'] = df_andres_calamaro['lyrics'].apply(lambda x: lemmatization_spicy(remove_stopwords_spicy(tokenizar_spicy(remove_punctuation(x)))))\n",
    "df_andres_calamaro.columns = ['cancion','artista','lyrics','letra']\n",
    "df_npl_andres_calamaro = df_andres_calamaro[['cancion','artista', 'letra']]\n",
    "df_npl_andres_calamaro"
   ]
  },
  {
   "cell_type": "code",
   "execution_count": 9,
   "metadata": {},
   "outputs": [
    {
     "data": {
      "text/html": [
       "<div>\n",
       "<style scoped>\n",
       "    .dataframe tbody tr th:only-of-type {\n",
       "        vertical-align: middle;\n",
       "    }\n",
       "\n",
       "    .dataframe tbody tr th {\n",
       "        vertical-align: top;\n",
       "    }\n",
       "\n",
       "    .dataframe thead th {\n",
       "        text-align: right;\n",
       "    }\n",
       "</style>\n",
       "<table border=\"1\" class=\"dataframe\">\n",
       "  <thead>\n",
       "    <tr style=\"text-align: right;\">\n",
       "      <th></th>\n",
       "      <th>cancion</th>\n",
       "      <th>artista</th>\n",
       "      <th>letra</th>\n",
       "    </tr>\n",
       "  </thead>\n",
       "  <tbody>\n",
       "    <tr>\n",
       "      <th>0</th>\n",
       "      <td>Mi Enfermedad</td>\n",
       "      <td>Fabiana Cantilo</td>\n",
       "      <td>[letra, enfermedad, estribillo, vencer, mundo,...</td>\n",
       "    </tr>\n",
       "    <tr>\n",
       "      <th>1</th>\n",
       "      <td>Fue Amor</td>\n",
       "      <td>Fabiana Cantilo</td>\n",
       "      <td>[letra, amor, versar, 1, poder, haberlo, hacer...</td>\n",
       "    </tr>\n",
       "    <tr>\n",
       "      <th>2</th>\n",
       "      <td>Nada Es Para Siempre</td>\n",
       "      <td>Fabiana Cantilo</td>\n",
       "      <td>[letra, siempre, versar, 1, querer, lastimar, ...</td>\n",
       "    </tr>\n",
       "    <tr>\n",
       "      <th>3</th>\n",
       "      <td>Amanece En La Ruta</td>\n",
       "      <td>Fabiana Cantilo</td>\n",
       "      <td>[letra, amanecer, ruta, amanecer, ruta, import...</td>\n",
       "    </tr>\n",
       "    <tr>\n",
       "      <th>4</th>\n",
       "      <td>Mary Poppins y el Deshollinador</td>\n",
       "      <td>Fabiana Cantilo</td>\n",
       "      <td>[letra, mary, poppins, deshollinador, estribil...</td>\n",
       "    </tr>\n",
       "    <tr>\n",
       "      <th>...</th>\n",
       "      <td>...</td>\n",
       "      <td>...</td>\n",
       "      <td>...</td>\n",
       "    </tr>\n",
       "    <tr>\n",
       "      <th>95</th>\n",
       "      <td>Cosas De Baboon</td>\n",
       "      <td>Divididos</td>\n",
       "      <td>[si, queres, saber, clavar, escorpión, si, que...</td>\n",
       "    </tr>\n",
       "    <tr>\n",
       "      <th>96</th>\n",
       "      <td>Puertas</td>\n",
       "      <td>Divididos</td>\n",
       "      <td>[puerta, abrir, puerta, cerrar, puerta, abrir,...</td>\n",
       "    </tr>\n",
       "    <tr>\n",
       "      <th>97</th>\n",
       "      <td>Sopa de tortuga</td>\n",
       "      <td>Divididos</td>\n",
       "      <td>[comenzar, entender, escuchar, ofertar, podar,...</td>\n",
       "    </tr>\n",
       "    <tr>\n",
       "      <th>98</th>\n",
       "      <td>Libre El Jabalí</td>\n",
       "      <td>Divididos</td>\n",
       "      <td>[pilcha, equivocar, estrellar, caer, redondo, ...</td>\n",
       "    </tr>\n",
       "    <tr>\n",
       "      <th>99</th>\n",
       "      <td>Niño Hereje</td>\n",
       "      <td>Divididos</td>\n",
       "      <td>[niño, hereje, niño, hereje, nunca, salir, fuc...</td>\n",
       "    </tr>\n",
       "  </tbody>\n",
       "</table>\n",
       "<p>1512 rows × 3 columns</p>\n",
       "</div>"
      ],
      "text/plain": [
       "                            cancion          artista  \\\n",
       "0                     Mi Enfermedad  Fabiana Cantilo   \n",
       "1                          Fue Amor  Fabiana Cantilo   \n",
       "2              Nada Es Para Siempre  Fabiana Cantilo   \n",
       "3                Amanece En La Ruta  Fabiana Cantilo   \n",
       "4   Mary Poppins y el Deshollinador  Fabiana Cantilo   \n",
       "..                              ...              ...   \n",
       "95                  Cosas De Baboon        Divididos   \n",
       "96                          Puertas        Divididos   \n",
       "97                  Sopa de tortuga        Divididos   \n",
       "98                  Libre El Jabalí        Divididos   \n",
       "99                      Niño Hereje        Divididos   \n",
       "\n",
       "                                                letra  \n",
       "0   [letra, enfermedad, estribillo, vencer, mundo,...  \n",
       "1   [letra, amor, versar, 1, poder, haberlo, hacer...  \n",
       "2   [letra, siempre, versar, 1, querer, lastimar, ...  \n",
       "3   [letra, amanecer, ruta, amanecer, ruta, import...  \n",
       "4   [letra, mary, poppins, deshollinador, estribil...  \n",
       "..                                                ...  \n",
       "95  [si, queres, saber, clavar, escorpión, si, que...  \n",
       "96  [puerta, abrir, puerta, cerrar, puerta, abrir,...  \n",
       "97  [comenzar, entender, escuchar, ofertar, podar,...  \n",
       "98  [pilcha, equivocar, estrellar, caer, redondo, ...  \n",
       "99  [niño, hereje, niño, hereje, nunca, salir, fuc...  \n",
       "\n",
       "[1512 rows x 3 columns]"
      ]
     },
     "execution_count": 9,
     "metadata": {},
     "output_type": "execute_result"
    }
   ],
   "source": [
    "df_related_artists['letra'] = df_related_artists['lyrics'].apply(lambda x: lemmatization_spicy((remove_stopwords_spicy(tokenizar_spicy(remove_punctuation(x))))))\n",
    "df_related_artists.columns = ['cancion','artista','lyrics','letra']\n",
    "df_npl_competencia = df_related_artists[['cancion','artista', 'letra']]\n",
    "df_npl_competencia"
   ]
  },
  {
   "cell_type": "code",
   "execution_count": 10,
   "metadata": {},
   "outputs": [
    {
     "name": "stdout",
     "output_type": "stream",
     "text": [
      "Andres Calamar Shape (100, 3) ; Competencia Shape (1512, 3)\n"
     ]
    }
   ],
   "source": [
    "print(f'Andres Calamar Shape {df_npl_andres_calamaro.shape} ; Competencia Shape {df_npl_competencia.shape}')"
   ]
  },
  {
   "cell_type": "markdown",
   "metadata": {
    "colab_type": "text",
    "id": "0bIXEzOh9-pe"
   },
   "source": [
    "### 3) Encontrar los n-gramas (n= 1, 2) más comunes y usarlos en gráficos.\n",
    "Utilizando las librerías de la celda de abajo obtendremos los conjuntos de 1 y 2 palabras más comunes para cada artista con el que trabajaremos. Luego usaremos los unigramas para graficar una [word-cloud](https://i.imgur.com/8I8aJ1N.png) y un gráfico de distribución de frecuencia para unigramas y bigramas por autor (o de la forma que se adapte a su pregunta)."
   ]
  },
  {
   "cell_type": "code",
   "execution_count": 11,
   "metadata": {},
   "outputs": [
    {
     "data": {
      "text/plain": [
       "<matplotlib.axes._subplots.AxesSubplot at 0x251b5f73e50>"
      ]
     },
     "execution_count": 11,
     "metadata": {},
     "output_type": "execute_result"
    },
    {
     "data": {
      "image/png": "[encoded data removed]",
      "text/plain": [
       "<Figure size 1080x720 with 2 Axes>"
      ]
     },
     "metadata": {
      "needs_background": "light"
     },
     "output_type": "display_data"
    }
   ],
   "source": [
    "figure, axes = plt.subplots(2,1, figsize=(15,10))\n",
    "\n",
    "df_bigram = getMostCommonsBigramsArtist(df_npl_andres_calamaro, andres_calamaro_name, 10)\n",
    "df_bigram.plot.barh(x='Bigrams', y='Frecuency', rot=0, title = andres_calamaro_name,  ax=axes[0])\n",
    "\n",
    "df_bigram = getMostCommonsUnigramsArtist(df_npl_andres_calamaro, andres_calamaro_name, 10)\n",
    "df_bigram.plot.barh(x='Unigrams', y='Frecuency', rot=0, title = andres_calamaro_name,  ax=axes[1])"
   ]
  },
  {
   "cell_type": "code",
   "execution_count": 12,
   "metadata": {},
   "outputs": [
    {
     "data": {
      "text/plain": [
       "array(['Fabiana Cantilo', 'Los Rodríguez', 'Fito Páez', 'Los Tipitos',\n",
       "       'Charly García', 'Estelares', 'Bersuit Vergarabat',\n",
       "       'Catupecu Machu', 'Mancha De Rolando', 'Turf',\n",
       "       'Memphis La Blusera', 'Los Caballeros De La Quema',\n",
       "       'Los Abuelos De La Nada', 'Serú Girán', 'Los Piojos', 'Vicentico',\n",
       "       'La Portuaria', 'Ratones Paranoicos', 'Intoxicados', 'Divididos'],\n",
       "      dtype=object)"
      ]
     },
     "execution_count": 12,
     "metadata": {},
     "output_type": "execute_result"
    }
   ],
   "source": [
    "df_npl_competencia['artista'].unique()"
   ]
  },
  {
   "cell_type": "code",
   "execution_count": 13,
   "metadata": {},
   "outputs": [
    {
     "data": {
      "text/plain": [
       "<matplotlib.axes._subplots.AxesSubplot at 0x251ba9d2790>"
      ]
     },
     "execution_count": 13,
     "metadata": {},
     "output_type": "execute_result"
    },
    {
     "data": {
      "image/png": "[encoded data removed]",
      "text/plain": [
       "<Figure size 1800x1080 with 4 Axes>"
      ]
     },
     "metadata": {
      "needs_background": "light"
     },
     "output_type": "display_data"
    }
   ],
   "source": [
    "bersuit_vergarabat_name = 'Bersuit Vergarabat'\n",
    "divididos_name = 'Divididos'\n",
    "fito_paez_name = 'Fito Páez'\n",
    "los_abuelos_de_la_nada_name = 'Los Abuelos De La Nada'\n",
    "\n",
    "\n",
    "figure, axes = plt.subplots(2,2, figsize=(25,15))\n",
    "\n",
    "df_bigram = getMostCommonsUnigramsArtist(df_npl_competencia, bersuit_vergarabat_name, 10)\n",
    "df_bigram.plot.barh(x='Unigrams', y='Frecuency', rot=0, title = bersuit_vergarabat_name, ax=axes[0,0])\n",
    "\n",
    "df_bigram = getMostCommonsUnigramsArtist(df_npl_competencia, divididos_name, 10)\n",
    "df_bigram.plot.barh(x='Unigrams', y='Frecuency', rot=0, title = divididos_name, ax=axes[0,1])\n",
    "\n",
    "df_bigram = getMostCommonsUnigramsArtist(df_npl_competencia, fito_paez_name, 10)\n",
    "df_bigram.plot.barh(x='Unigrams', y='Frecuency', rot=0, title = fito_paez_name, ax=axes[1,0])\n",
    "\n",
    "df_bigram = getMostCommonsUnigramsArtist(df_npl_competencia, los_abuelos_de_la_nada_name, 10)\n",
    "df_bigram.plot.barh(x='Unigrams', y='Frecuency', rot=0, title = los_abuelos_de_la_nada_name, ax=axes[1,1])"
   ]
  },
  {
   "cell_type": "code",
   "execution_count": 14,
   "metadata": {},
   "outputs": [
    {
     "data": {
      "text/plain": [
       "<matplotlib.axes._subplots.AxesSubplot at 0x251bab8bbe0>"
      ]
     },
     "execution_count": 14,
     "metadata": {},
     "output_type": "execute_result"
    },
    {
     "data": {
      "image/png": "[encoded data removed]",
      "text/plain": [
       "<Figure size 1800x1080 with 4 Axes>"
      ]
     },
     "metadata": {
      "needs_background": "light"
     },
     "output_type": "display_data"
    }
   ],
   "source": [
    "figure, axes = plt.subplots(2,2, figsize=(25,15))\n",
    "\n",
    "df_bigram = getMostCommonsBigramsArtist(df_npl_competencia, bersuit_vergarabat_name, 10)\n",
    "df_bigram.plot.barh(x='Bigrams', y='Frecuency', rot=0, title = bersuit_vergarabat_name, ax=axes[0,0])\n",
    "\n",
    "df_bigram = getMostCommonsBigramsArtist(df_npl_competencia, divididos_name, 10)\n",
    "df_bigram.plot.barh(x='Bigrams', y='Frecuency', rot=0, title = divididos_name, ax=axes[0,1])\n",
    "\n",
    "df_bigram = getMostCommonsBigramsArtist(df_npl_competencia, fito_paez_name, 10)\n",
    "df_bigram.plot.barh(x='Bigrams', y='Frecuency', rot=0, title = fito_paez_name, ax=axes[1,0])\n",
    "\n",
    "df_bigram = getMostCommonsBigramsArtist(df_npl_competencia, los_abuelos_de_la_nada_name, 10)\n",
    "df_bigram.plot.barh(x='Bigrams', y='Frecuency', rot=0, title = los_abuelos_de_la_nada_name, ax=axes[1,1])\n",
    "\n"
   ]
  },
  {
   "cell_type": "markdown",
   "metadata": {
    "colab_type": "text",
    "id": "bv48Pijb9-pi"
   },
   "source": [
    "### 4) Escribir un informe"
   ]
  },
  {
   "cell_type": "markdown",
   "metadata": {
    "colab_type": "text",
    "id": "iM1bxniz9-pi"
   },
   "source": [
    "Este informe tiene que describir qué datos que obtuvieron, el volumen de estos (# de canciones del artista, # de canciones de la competencia, etc), una explicación de cómo estos se relacionan con la pregunta planteada, cómo ayudan a responderla y los resultados que obtuvieron. Usar la celda de abajo con formato markdown."
   ]
  },
  {
   "cell_type": "markdown",
   "metadata": {
    "colab_type": "text",
    "id": "8zeklLMv9-pj"
   },
   "source": [
    "En este trabajo, el volumen de datos fue obtenido mediante spotify y genius. \n",
    "Se analizaron las canciones de diferentes artistas relacionados con el artista principal bajo estudio, el cuál es Andres Calamaro. \n",
    "Andres Calamaro es un cantante destacado junto con otros en su genero musical. Se busco responder, mediante el análisis de sus canciones, las siguientes respuestas: \n",
    "  * ¿Por que Andres Calamaro destaca dentro de su género, rock argentino y latino?\n",
    "  * ¿Que diferencia o similitudes tienen los temas musicales con otros cantantes destacados del mismo genero? Tales como Fito Paez, Bersuit Vergarabat, Divididos, Los Abuelos de la Nada\n",
    "  \n",
    "Para ello se pudieron recolectar un promedio de 100 temas musicales por artista.\n",
    "Como resultado de este trabajo se pude observar que estos artistas tienen muchas similitudes en sus temas, que posiblemente hacen que destaquen tanto.\n",
    "Andes Calamaro interpreta temas musicales con un foco centrado en la vida, el amor, sociedad;  la emociones son el centro de sus temas. A ellos se le suma verbos como ir, querer, poder. Se puede concluir que sus temas tiene fuerte relación esa a poder amar, vivir, ser e irse en nuestra actualidad.\n",
    "Sorprendementes se encontro el mismo patrón con el resto de los cantantes (Divididos, Fito Paez, Los Abuelos de la Nada y Bersuit Vergarabat). El amor y la vida son el centro de estos cantantes. Sin embargo se pueden observar unas pequeñas sutilezas en cada cantante:\n",
    "  * Bersuit Vergarabat: sus canciones hablan de \"poder cambiar, poder parar, ir, venir\"\n",
    "  * Divididos: sus canciones se relaciona más al amor, irse, hacer.\n",
    "  * Paez: Al igual que los otros cantante, sus temas hablan de irse, amar, querer.\n",
    "  * Los Abuelos de la Nada: Su teman hacen refencia a enarmorar, olvidar, querer e irse\n",
    "La carrera y exito de Andres Calamaro y su \"compentencia\" son indiscutibles, hay más similitudes que diferencias en sus temas. No es fácil determinar que hace que este cantante destaque sobre los otros, sin embargo, este análisis junto con un análisis de su musica e interpretación no pueden dar mayor información para alcanzar un buena respuesta."
   ]
  },
  {
   "cell_type": "code",
   "execution_count": null,
   "metadata": {},
   "outputs": [],
   "source": []
  }
 ],
 "metadata": {
  "colab": {
   "collapsed_sections": [],
   "name": "TP2-Mentoria-2020-Ivan_Gutierrez.ipynb",
   "provenance": []
  },
  "kernelspec": {
   "display_name": "Python [conda env:diplodatos-mentoria] *",
   "language": "python",
   "name": "conda-env-diplodatos-mentoria-py"
  },
  "language_info": {
   "codemirror_mode": {
    "name": "ipython",
    "version": 3
   },
   "file_extension": ".py",
   "mimetype": "text/x-python",
   "name": "python",
   "nbconvert_exporter": "python",
   "pygments_lexer": "ipython3",
   "version": "3.8.3"
  }
 },
 "nbformat": 4,
 "nbformat_minor": 4
}
